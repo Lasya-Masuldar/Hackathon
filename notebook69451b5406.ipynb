{
 "cells": [
  {
   "cell_type": "code",
   "execution_count": 1,
   "id": "ee3c51ff",
   "metadata": {
    "execution": {
     "iopub.execute_input": "2025-06-13T16:44:04.584257Z",
     "iopub.status.busy": "2025-06-13T16:44:04.583884Z",
     "iopub.status.idle": "2025-06-13T16:44:04.655658Z",
     "shell.execute_reply": "2025-06-13T16:44:04.654229Z"
    },
    "id": "52fc0999",
    "outputId": "37d0a280-2c85-45eb-9163-cfbe56fce845",
    "papermill": {
     "duration": 0.07998,
     "end_time": "2025-06-13T16:44:04.657488",
     "exception": true,
     "start_time": "2025-06-13T16:44:04.577508",
     "status": "failed"
    },
    "tags": []
   },
   "outputs": [
    {
     "ename": "NameError",
     "evalue": "name 'pd' is not defined",
     "output_type": "error",
     "traceback": [
      "\u001b[0;31m---------------------------------------------------------------------------\u001b[0m",
      "\u001b[0;31mNameError\u001b[0m                                 Traceback (most recent call last)",
      "\u001b[0;32m/tmp/ipykernel_13/2347046925.py\u001b[0m in \u001b[0;36m<cell line: 0>\u001b[0;34m()\u001b[0m\n\u001b[0;32m----> 1\u001b[0;31m \u001b[0mdf\u001b[0m \u001b[0;34m=\u001b[0m \u001b[0mpd\u001b[0m\u001b[0;34m.\u001b[0m\u001b[0mread_csv\u001b[0m\u001b[0;34m(\u001b[0m\u001b[0;34m\"/kaggle/input/summer-analytics-mid-hackathon/hacktrain.csv\"\u001b[0m\u001b[0;34m)\u001b[0m\u001b[0;34m\u001b[0m\u001b[0;34m\u001b[0m\u001b[0m\n\u001b[0m\u001b[1;32m      2\u001b[0m \u001b[0mdf\u001b[0m \u001b[0;31m#ignore the warnings\u001b[0m\u001b[0;34m\u001b[0m\u001b[0;34m\u001b[0m\u001b[0m\n",
      "\u001b[0;31mNameError\u001b[0m: name 'pd' is not defined"
     ]
    }
   ],
   "source": [
    "df = pd.read_csv(\"/kaggle/input/summer-analytics-mid-hackathon/hacktrain.csv\")\n",
    "df #ignore the warnings"
   ]
  },
  {
   "cell_type": "code",
   "execution_count": null,
   "id": "f2c5e902",
   "metadata": {
    "execution": {
     "iopub.execute_input": "2025-06-12T14:05:57.129826Z",
     "iopub.status.busy": "2025-06-12T14:05:57.129561Z",
     "iopub.status.idle": "2025-06-12T14:05:57.133745Z",
     "shell.execute_reply": "2025-06-12T14:05:57.132932Z",
     "shell.execute_reply.started": "2025-06-12T14:05:57.129806Z"
    },
    "papermill": {
     "duration": null,
     "end_time": null,
     "exception": null,
     "start_time": null,
     "status": "pending"
    },
    "tags": []
   },
   "outputs": [],
   "source": [
    "#ndvi_cols= [col for col in df.columns if '_N' in col]\n",
    "#ndvi_data= df[ndvi_cols]\n",
    "#ndvi_data.isna().sum()\n",
    "#ndvi_scaled=ndvi_data\n",
    "#ndvi_data\n"
   ]
  },
  {
   "cell_type": "code",
   "execution_count": null,
   "id": "347ca0fd",
   "metadata": {
    "execution": {
     "iopub.execute_input": "2025-06-12T14:05:57.135207Z",
     "iopub.status.busy": "2025-06-12T14:05:57.134832Z",
     "iopub.status.idle": "2025-06-12T14:05:57.175966Z",
     "shell.execute_reply": "2025-06-12T14:05:57.174789Z",
     "shell.execute_reply.started": "2025-06-12T14:05:57.135158Z"
    },
    "papermill": {
     "duration": null,
     "end_time": null,
     "exception": null,
     "start_time": null,
     "status": "pending"
    },
    "tags": []
   },
   "outputs": [],
   "source": [
    "\n",
    "from sklearn.preprocessing import StandardScaler\n",
    "from scipy.signal import savgol_filter\n",
    "\n",
    "\n",
    "place_col = df.columns[0:3]\n",
    "ndvi_cols = df.columns[3:]\n",
    "\n",
    "ndvi_data = df[ndvi_cols]\n",
    "ndvi_data"
   ]
  },
  {
   "cell_type": "code",
   "execution_count": null,
   "id": "5e0ed31d",
   "metadata": {
    "execution": {
     "iopub.execute_input": "2025-06-12T14:09:10.815287Z",
     "iopub.status.busy": "2025-06-12T14:09:10.814923Z",
     "iopub.status.idle": "2025-06-12T14:09:10.839420Z",
     "shell.execute_reply": "2025-06-12T14:09:10.838571Z",
     "shell.execute_reply.started": "2025-06-12T14:09:10.815261Z"
    },
    "papermill": {
     "duration": null,
     "end_time": null,
     "exception": null,
     "start_time": null,
     "status": "pending"
    },
    "tags": []
   },
   "outputs": [],
   "source": [
    "scaler = StandardScaler()\n",
    "ndvi_scaled = pd.DataFrame(scaler.fit_transform(ndvi_data), columns=ndvi_cols)"
   ]
  },
  {
   "cell_type": "code",
   "execution_count": null,
   "id": "4bbc75dd",
   "metadata": {
    "execution": {
     "iopub.execute_input": "2025-06-12T14:05:57.205556Z",
     "iopub.status.busy": "2025-06-12T14:05:57.205282Z",
     "iopub.status.idle": "2025-06-12T14:05:57.209779Z",
     "shell.execute_reply": "2025-06-12T14:05:57.208893Z",
     "shell.execute_reply.started": "2025-06-12T14:05:57.205537Z"
    },
    "papermill": {
     "duration": null,
     "end_time": null,
     "exception": null,
     "start_time": null,
     "status": "pending"
    },
    "tags": []
   },
   "outputs": [],
   "source": [
    "#def denoise_row(row):\n",
    "    # Fill NaNs temporarily with linear interpolation before filtering\n",
    "    #row = row.interpolate(limit_direction='both')\n",
    "    # Apply Savitzky-Golay filter (window size must be odd and < len(row))\n",
    "   # try:\n",
    "   #     return savgol_filter(row, window_length=5, polyorder=2)\n",
    "#    except:\n",
    " #       return row  # fallback if too many NaNs or too short\n",
    "\n",
    "#ndvi_denoised = ndvi_scaled.apply(denoise_row, axis=1, result_type='expand')\n",
    "#ndvi_denoised.columns = ndvi_cols"
   ]
  },
  {
   "cell_type": "code",
   "execution_count": null,
   "id": "aaae23f4",
   "metadata": {
    "execution": {
     "iopub.execute_input": "2025-06-12T14:05:57.210968Z",
     "iopub.status.busy": "2025-06-12T14:05:57.210664Z",
     "iopub.status.idle": "2025-06-12T14:05:57.580226Z",
     "shell.execute_reply": "2025-06-12T14:05:57.579238Z",
     "shell.execute_reply.started": "2025-06-12T14:05:57.210949Z"
    },
    "papermill": {
     "duration": null,
     "end_time": null,
     "exception": null,
     "start_time": null,
     "status": "pending"
    },
    "tags": []
   },
   "outputs": [],
   "source": [
    "#ndvi_final = ndvi_denoised.interpolate(axis=1, limit_direction='both')\n",
    "ndvi_final = ndvi_scaled.interpolate(axis=1, limit_direction='both')\n",
    "#ndvi_final = ndvi_denoised.fillna(ndvi_denoised.mean())\n",
    "ndvi_final"
   ]
  },
  {
   "cell_type": "code",
   "execution_count": null,
   "id": "c6023e12",
   "metadata": {
    "execution": {
     "iopub.execute_input": "2025-06-12T14:05:57.581398Z",
     "iopub.status.busy": "2025-06-12T14:05:57.581113Z",
     "iopub.status.idle": "2025-06-12T14:05:57.586952Z",
     "shell.execute_reply": "2025-06-12T14:05:57.585932Z",
     "shell.execute_reply.started": "2025-06-12T14:05:57.581380Z"
    },
    "papermill": {
     "duration": null,
     "end_time": null,
     "exception": null,
     "start_time": null,
     "status": "pending"
    },
    "tags": []
   },
   "outputs": [],
   "source": [
    "#df_clean = pd.concat([df[[place_col]], ndvi_final], axis=1)\n",
    "#df_clean"
   ]
  },
  {
   "cell_type": "code",
   "execution_count": null,
   "id": "e7587f5f",
   "metadata": {
    "execution": {
     "iopub.execute_input": "2025-06-12T14:05:57.588427Z",
     "iopub.status.busy": "2025-06-12T14:05:57.588063Z",
     "iopub.status.idle": "2025-06-12T14:05:57.604596Z",
     "shell.execute_reply": "2025-06-12T14:05:57.603645Z",
     "shell.execute_reply.started": "2025-06-12T14:05:57.588400Z"
    },
    "papermill": {
     "duration": null,
     "end_time": null,
     "exception": null,
     "start_time": null,
     "status": "pending"
    },
    "tags": []
   },
   "outputs": [],
   "source": [
    "\n",
    "\n",
    "\n",
    "# Interpolate each row across time\n",
    "#ndvi_interpolated = ndvi_data.interpolate(axis=1, limit_direction='both')\n",
    "\n",
    "# Reattach the place column\n",
    "#df_clean = pd.concat([df[[place_col]], ndvi_interpolated], axis=1)\n",
    "\n"
   ]
  },
  {
   "cell_type": "code",
   "execution_count": null,
   "id": "5d9b7349",
   "metadata": {
    "execution": {
     "iopub.execute_input": "2025-06-12T14:05:57.605863Z",
     "iopub.status.busy": "2025-06-12T14:05:57.605572Z",
     "iopub.status.idle": "2025-06-12T14:05:57.621859Z",
     "shell.execute_reply": "2025-06-12T14:05:57.621011Z",
     "shell.execute_reply.started": "2025-06-12T14:05:57.605836Z"
    },
    "papermill": {
     "duration": null,
     "end_time": null,
     "exception": null,
     "start_time": null,
     "status": "pending"
    },
    "tags": []
   },
   "outputs": [],
   "source": [
    "#from sklearn.preprocessing import MinMaxScaler\n",
    "#scaler = MinMaxScaler(feature_range=(-1, 1))\n",
    "#ndvi_scaled = pd.DataFrame(scaler.fit_transform(ndvi_data), columns=ndvi_cols)\n",
    "#ndvi_scaled"
   ]
  },
  {
   "cell_type": "code",
   "execution_count": null,
   "id": "22af182c",
   "metadata": {
    "execution": {
     "iopub.execute_input": "2025-06-12T14:05:57.623248Z",
     "iopub.status.busy": "2025-06-12T14:05:57.622915Z",
     "iopub.status.idle": "2025-06-12T14:05:57.637321Z",
     "shell.execute_reply": "2025-06-12T14:05:57.636467Z",
     "shell.execute_reply.started": "2025-06-12T14:05:57.623219Z"
    },
    "papermill": {
     "duration": null,
     "end_time": null,
     "exception": null,
     "start_time": null,
     "status": "pending"
    },
    "tags": []
   },
   "outputs": [],
   "source": [
    "#from scipy.stats import zscore\n",
    "#z_scores = np.abs(zscore(ndvi_scaled, nan_policy='omit'))\n",
    "# Mark as NaN where z > 3 (outlier)\n",
    "#ndvi_no_outliers = ndvi_scaled.mask(z_scores > 3)\n",
    "#ndvi_no_outliers"
   ]
  },
  {
   "cell_type": "code",
   "execution_count": null,
   "id": "c1f3e3b5",
   "metadata": {
    "execution": {
     "iopub.execute_input": "2025-06-12T14:05:57.640591Z",
     "iopub.status.busy": "2025-06-12T14:05:57.640035Z",
     "iopub.status.idle": "2025-06-12T14:05:57.654361Z",
     "shell.execute_reply": "2025-06-12T14:05:57.653583Z",
     "shell.execute_reply.started": "2025-06-12T14:05:57.640567Z"
    },
    "papermill": {
     "duration": null,
     "end_time": null,
     "exception": null,
     "start_time": null,
     "status": "pending"
    },
    "tags": []
   },
   "outputs": [],
   "source": [
    "#ndvi_filled = ndvi_no_outliers.fillna(ndvi_no_outliers.median())\n",
    "#ndvi_filled"
   ]
  },
  {
   "cell_type": "code",
   "execution_count": null,
   "id": "b661002f",
   "metadata": {
    "execution": {
     "iopub.execute_input": "2025-06-12T14:05:57.655946Z",
     "iopub.status.busy": "2025-06-12T14:05:57.655633Z",
     "iopub.status.idle": "2025-06-12T14:05:57.699215Z",
     "shell.execute_reply": "2025-06-12T14:05:57.698459Z",
     "shell.execute_reply.started": "2025-06-12T14:05:57.655919Z"
    },
    "papermill": {
     "duration": null,
     "end_time": null,
     "exception": null,
     "start_time": null,
     "status": "pending"
    },
    "tags": []
   },
   "outputs": [],
   "source": [
    "df[ndvi_cols]= ndvi_final\n",
    "df\n"
   ]
  },
  {
   "cell_type": "code",
   "execution_count": null,
   "id": "a2abbecc",
   "metadata": {
    "papermill": {
     "duration": null,
     "end_time": null,
     "exception": null,
     "start_time": null,
     "status": "pending"
    },
    "tags": []
   },
   "outputs": [],
   "source": []
  },
  {
   "cell_type": "code",
   "execution_count": null,
   "id": "f4f83222",
   "metadata": {
    "execution": {
     "iopub.execute_input": "2025-06-12T14:05:57.700824Z",
     "iopub.status.busy": "2025-06-12T14:05:57.700497Z",
     "iopub.status.idle": "2025-06-12T14:05:57.705346Z",
     "shell.execute_reply": "2025-06-12T14:05:57.704406Z",
     "shell.execute_reply.started": "2025-06-12T14:05:57.700795Z"
    },
    "id": "8646c661",
    "outputId": "68db8940-567b-4a6c-c0f1-c3f849aa0145",
    "papermill": {
     "duration": null,
     "end_time": null,
     "exception": null,
     "start_time": null,
     "status": "pending"
    },
    "tags": []
   },
   "outputs": [],
   "source": [
    "#df.fillna(df.mean(numeric_only=True), inplace=True) #simple mean imputation [This part has a lot of scope for imporovement.]\n",
    "#keep in mind that the data is inherently noisy and the test dataset is not.\n",
    "#df.isnull().sum()"
   ]
  },
  {
   "cell_type": "code",
   "execution_count": null,
   "id": "c719a5ed",
   "metadata": {
    "execution": {
     "iopub.execute_input": "2025-06-12T14:05:57.706437Z",
     "iopub.status.busy": "2025-06-12T14:05:57.706127Z",
     "iopub.status.idle": "2025-06-12T14:05:57.821493Z",
     "shell.execute_reply": "2025-06-12T14:05:57.819504Z",
     "shell.execute_reply.started": "2025-06-12T14:05:57.706413Z"
    },
    "id": "c5a6f9fa",
    "outputId": "31c037f0-14e7-4dda-f0bc-0ce34e3536e2",
    "papermill": {
     "duration": null,
     "end_time": null,
     "exception": null,
     "start_time": null,
     "status": "pending"
    },
    "tags": []
   },
   "outputs": [],
   "source": [
    "import pandas as pd\n",
    "from sklearn.linear_model import LogisticRegression\n",
    "from sklearn.model_selection import train_test_split\n",
    "from sklearn.preprocessing import LabelEncoder\n",
    "from sklearn.metrics import classification_report\n",
    "\n",
    "# Drop ID column\n",
    "df.drop(columns=['ID'], inplace=True)\n",
    "\n",
    "# Encode class column (if it's categorical)\n",
    "label_encoder = LabelEncoder()\n",
    "df['class'] = label_encoder.fit_transform(df['class'])\n",
    "\n",
    "# Split into features and target\n",
    "X = df.drop(columns=['class'])\n",
    "y = df['class']\n",
    "\n",
    "# Train-test split\n",
    "X_train, X_test, y_train, y_test = train_test_split(\n",
    "    X, y, test_size=0.2, random_state=42, stratify=y)\n",
    "\n",
    "# Fit multinomial logistic regression\n",
    "model = LogisticRegression(\n",
    "    multi_class='multinomial',\n",
    "    solver='lbfgs',\n",
    "    max_iter=10\n",
    ")\n",
    "model.fit(X_train, y_train)\n",
    "\n",
    "# Predict on test set\n",
    "y_pred = model.predict(X_test)\n",
    "\n",
    "# Classification report with all original class labels\n",
    "print(classification_report(\n",
    "    y_test,\n",
    "    y_pred,\n",
    "    labels=list(range(len(label_encoder.classes_))),\n",
    "    target_names=label_encoder.classes_\n",
    "))\n"
   ]
  },
  {
   "cell_type": "code",
   "execution_count": null,
   "id": "e7039341",
   "metadata": {
    "execution": {
     "iopub.execute_input": "2025-06-12T14:05:57.822494Z",
     "iopub.status.busy": "2025-06-12T14:05:57.822244Z",
     "iopub.status.idle": "2025-06-12T14:05:57.856066Z",
     "shell.execute_reply": "2025-06-12T14:05:57.855340Z",
     "shell.execute_reply.started": "2025-06-12T14:05:57.822472Z"
    },
    "id": "ff1cd1b8",
    "outputId": "32946be1-e94f-45bf-ce29-6a3934c13d41",
    "papermill": {
     "duration": null,
     "end_time": null,
     "exception": null,
     "start_time": null,
     "status": "pending"
    },
    "tags": []
   },
   "outputs": [],
   "source": [
    "test_data = pd.read_csv(\"/kaggle/input/summer-analytics-mid-hackathon/hacktest.csv\")\n",
    "test_data.shape"
   ]
  },
  {
   "cell_type": "code",
   "execution_count": null,
   "id": "9ac1684c",
   "metadata": {
    "execution": {
     "iopub.execute_input": "2025-06-12T14:05:57.860085Z",
     "iopub.status.busy": "2025-06-12T14:05:57.859069Z",
     "iopub.status.idle": "2025-06-12T14:05:57.867478Z",
     "shell.execute_reply": "2025-06-12T14:05:57.865365Z",
     "shell.execute_reply.started": "2025-06-12T14:05:57.860054Z"
    },
    "id": "ac73a96b",
    "papermill": {
     "duration": null,
     "end_time": null,
     "exception": null,
     "start_time": null,
     "status": "pending"
    },
    "tags": []
   },
   "outputs": [],
   "source": [
    "ID=test_data['ID']\n",
    "test_data.drop(['ID'],axis=1,inplace=True)"
   ]
  },
  {
   "cell_type": "code",
   "execution_count": null,
   "id": "11d722d3",
   "metadata": {
    "execution": {
     "iopub.execute_input": "2025-06-12T14:05:57.869777Z",
     "iopub.status.busy": "2025-06-12T14:05:57.869471Z",
     "iopub.status.idle": "2025-06-12T14:05:57.885818Z",
     "shell.execute_reply": "2025-06-12T14:05:57.884980Z",
     "shell.execute_reply.started": "2025-06-12T14:05:57.869753Z"
    },
    "id": "e65b77a4",
    "papermill": {
     "duration": null,
     "end_time": null,
     "exception": null,
     "start_time": null,
     "status": "pending"
    },
    "tags": []
   },
   "outputs": [],
   "source": [
    "y_test = model.predict(test_data)"
   ]
  },
  {
   "cell_type": "code",
   "execution_count": null,
   "id": "ff35e629",
   "metadata": {
    "execution": {
     "iopub.execute_input": "2025-06-12T14:05:57.886728Z",
     "iopub.status.busy": "2025-06-12T14:05:57.886472Z",
     "iopub.status.idle": "2025-06-12T14:05:57.899802Z",
     "shell.execute_reply": "2025-06-12T14:05:57.898617Z",
     "shell.execute_reply.started": "2025-06-12T14:05:57.886706Z"
    },
    "id": "44be4c4c",
    "outputId": "ce095c84-4d9c-44ff-b4d1-74083c7df068",
    "papermill": {
     "duration": null,
     "end_time": null,
     "exception": null,
     "start_time": null,
     "status": "pending"
    },
    "tags": []
   },
   "outputs": [],
   "source": [
    "y_test"
   ]
  },
  {
   "cell_type": "code",
   "execution_count": null,
   "id": "3fe20d48",
   "metadata": {
    "execution": {
     "iopub.execute_input": "2025-06-12T14:05:57.901384Z",
     "iopub.status.busy": "2025-06-12T14:05:57.900901Z",
     "iopub.status.idle": "2025-06-12T14:05:57.919477Z",
     "shell.execute_reply": "2025-06-12T14:05:57.918561Z",
     "shell.execute_reply.started": "2025-06-12T14:05:57.901359Z"
    },
    "id": "aeee262b",
    "outputId": "3e0e9b0c-d62d-4bf7-e4a8-7af8bfabf115",
    "papermill": {
     "duration": null,
     "end_time": null,
     "exception": null,
     "start_time": null,
     "status": "pending"
    },
    "tags": []
   },
   "outputs": [],
   "source": [
    "y_decoded = label_encoder.inverse_transform(y_test)\n",
    "y_decoded"
   ]
  },
  {
   "cell_type": "code",
   "execution_count": null,
   "id": "562a2b72",
   "metadata": {
    "execution": {
     "iopub.execute_input": "2025-06-12T14:05:57.920574Z",
     "iopub.status.busy": "2025-06-12T14:05:57.920353Z",
     "iopub.status.idle": "2025-06-12T14:05:57.935126Z",
     "shell.execute_reply": "2025-06-12T14:05:57.934329Z",
     "shell.execute_reply.started": "2025-06-12T14:05:57.920550Z"
    },
    "id": "e10db231",
    "papermill": {
     "duration": null,
     "end_time": null,
     "exception": null,
     "start_time": null,
     "status": "pending"
    },
    "tags": []
   },
   "outputs": [],
   "source": [
    "result = pd.DataFrame({\n",
    "    'ID': ID,\n",
    "    'class': y_decoded\n",
    "})"
   ]
  },
  {
   "cell_type": "code",
   "execution_count": null,
   "id": "d7448dd7",
   "metadata": {
    "execution": {
     "iopub.execute_input": "2025-06-12T14:05:57.936522Z",
     "iopub.status.busy": "2025-06-12T14:05:57.936157Z",
     "iopub.status.idle": "2025-06-12T14:05:57.955121Z",
     "shell.execute_reply": "2025-06-12T14:05:57.954115Z",
     "shell.execute_reply.started": "2025-06-12T14:05:57.936485Z"
    },
    "id": "9906b67f",
    "outputId": "5f6659a2-3d76-414a-8736-03844dea262d",
    "papermill": {
     "duration": null,
     "end_time": null,
     "exception": null,
     "start_time": null,
     "status": "pending"
    },
    "tags": []
   },
   "outputs": [],
   "source": [
    "result"
   ]
  },
  {
   "cell_type": "code",
   "execution_count": null,
   "id": "775d58ee",
   "metadata": {
    "execution": {
     "iopub.execute_input": "2025-06-12T14:05:57.956681Z",
     "iopub.status.busy": "2025-06-12T14:05:57.956364Z",
     "iopub.status.idle": "2025-06-12T14:05:57.972810Z",
     "shell.execute_reply": "2025-06-12T14:05:57.971910Z",
     "shell.execute_reply.started": "2025-06-12T14:05:57.956659Z"
    },
    "id": "484c74df",
    "papermill": {
     "duration": null,
     "end_time": null,
     "exception": null,
     "start_time": null,
     "status": "pending"
    },
    "tags": []
   },
   "outputs": [],
   "source": [
    "result.to_csv(\"submission.csv\", index=False) #this file will appear under the output section of the right navbar. You need to submit this csv file"
   ]
  },
  {
   "cell_type": "code",
   "execution_count": null,
   "id": "69cfe5d4",
   "metadata": {
    "id": "60bc6119",
    "papermill": {
     "duration": null,
     "end_time": null,
     "exception": null,
     "start_time": null,
     "status": "pending"
    },
    "tags": []
   },
   "outputs": [],
   "source": []
  }
 ],
 "metadata": {
  "colab": {
   "provenance": []
  },
  "kaggle": {
   "accelerator": "none",
   "dataSources": [
    {
     "databundleVersionId": 12585144,
     "sourceId": 104491,
     "sourceType": "competition"
    }
   ],
   "dockerImageVersionId": 31040,
   "isGpuEnabled": false,
   "isInternetEnabled": false,
   "language": "python",
   "sourceType": "notebook"
  },
  "kernelspec": {
   "display_name": "Python 3",
   "language": "python",
   "name": "python3"
  },
  "language_info": {
   "codemirror_mode": {
    "name": "ipython",
    "version": 3
   },
   "file_extension": ".py",
   "mimetype": "text/x-python",
   "name": "python",
   "nbconvert_exporter": "python",
   "pygments_lexer": "ipython3",
   "version": "3.11.11"
  },
  "papermill": {
   "default_parameters": {},
   "duration": 5.747957,
   "end_time": "2025-06-13T16:44:05.082739",
   "environment_variables": {},
   "exception": true,
   "input_path": "__notebook__.ipynb",
   "output_path": "__notebook__.ipynb",
   "parameters": {},
   "start_time": "2025-06-13T16:43:59.334782",
   "version": "2.6.0"
  }
 },
 "nbformat": 4,
 "nbformat_minor": 5
}
